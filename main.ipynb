{
 "cells": [
  {
   "cell_type": "markdown",
   "id": "83ee3a98",
   "metadata": {},
   "source": [
    "# Spotify Wrapped\n",
    "\n",
    "### Install the following libraries\n",
    "\n",
    "- pip install spotipy\n",
    "- pip install gspread\n",
    "\n",
    "###### Add '!' before pip if you are using Jupyter Notebook\n",
    "\n",
    "### Spotify API \n",
    "- (https://developer.spotify.com/documentation/web-api)\n",
    "\n",
    "### Spotipy Library Documentation\n",
    "- (https://spotipy.readthedocs.io/en/2.18.0/)"
   ]
  },
  {
   "cell_type": "code",
   "execution_count": null,
   "id": "26f490ca",
   "metadata": {},
   "outputs": [],
   "source": [
    "CLIENT_SERVER_ID = \"your-api\" # add your client server id from spotify api\n",
    "CLIENT_SECRET_ID = \"your-secret-id\" # add your client secret id from spotify api\n",
    "REDIRECT_ID = \"http://127.0.0.1:8080\" # you can add any localhost address\n",
    "SCOPE = \"user-top-read\""
   ]
  },
  {
   "cell_type": "code",
   "execution_count": null,
   "id": "67c72d5b",
   "metadata": {},
   "outputs": [],
   "source": [
    "import time\n",
    "import pandas as pd\n",
    "import spotipy\n",
    "from spotipy.oauth2 import SpotifyOAuth"
   ]
  },
  {
   "cell_type": "code",
   "execution_count": null,
   "id": "942debfc",
   "metadata": {},
   "outputs": [],
   "source": [
    "# this will ask you to connect your spotify account\n",
    "\n",
    "sp = spotipy.Spotify(auth_manager=SpotifyOAuth(client_id=CLIENT_SERVER_ID, client_secret=CLIENT_SECRET_ID,redirect_uri=REDIRECT_ID, scope=SCOPE))"
   ]
  },
  {
   "cell_type": "code",
   "execution_count": null,
   "id": "ad14278e",
   "metadata": {},
   "outputs": [],
   "source": [
    "# 3 time ranges, short_term, medium_term, long_term. Limit gives you number of songs\n",
    "\n",
    "top_tracks_short = sp.current_user_top_tracks(limit=10, offset=0, time_range=\"short_term\")"
   ]
  },
  {
   "cell_type": "code",
   "execution_count": null,
   "id": "7da3f8ae",
   "metadata": {},
   "outputs": [],
   "source": [
    "top_tracks"
   ]
  },
  {
   "cell_type": "code",
   "execution_count": null,
   "id": "41814a8c",
   "metadata": {},
   "outputs": [],
   "source": [
    "for track in top_tracks['items']:\n",
    "    print(track['album']) "
   ]
  },
  {
   "cell_type": "code",
   "execution_count": null,
   "id": "60a72436",
   "metadata": {},
   "outputs": [],
   "source": [
    "# this function return ids of songs\n",
    "\n",
    "def track_song_id(tracks):\n",
    "    track_ids = []\n",
    "    \n",
    "    for i in tracks['items']:\n",
    "        track_ids.append(i['id'])\n",
    "        \n",
    "    return track_ids"
   ]
  },
  {
   "cell_type": "code",
   "execution_count": null,
   "id": "782e2ebc",
   "metadata": {},
   "outputs": [],
   "source": [
    "track_id_short = track_song_id(top_tracks)"
   ]
  },
  {
   "cell_type": "code",
   "execution_count": null,
   "id": "b10dec73",
   "metadata": {},
   "outputs": [],
   "source": [
    "track_id_short"
   ]
  },
  {
   "cell_type": "code",
   "execution_count": null,
   "id": "cbbd9d33",
   "metadata": {},
   "outputs": [],
   "source": [
    "# this function extract features using the id\n",
    "\n",
    "def track_features(id):\n",
    "    data = sp.track(id)\n",
    "    \n",
    "    name = data['name']\n",
    "    artist = data['album']['artists'][0]['name']\n",
    "    album = data['album']['name']\n",
    "    spotify_url = data['external_urls']['spotify']\n",
    "    album_cover = data['album']['images'][0]['url']\n",
    "    \n",
    "    info = [name, artist, album, spotify_url, album_cover]\n",
    "    \n",
    "    return info"
   ]
  },
  {
   "cell_type": "code",
   "execution_count": null,
   "id": "acb7195c",
   "metadata": {},
   "outputs": [],
   "source": [
    "tracks = []\n",
    "\n",
    "for i in range(len(track_id_short)):\n",
    "    time.sleep(.5)\n",
    "    track = track_features(track_id_short[i])\n",
    "    tracks.append(track)"
   ]
  },
  {
   "cell_type": "code",
   "execution_count": null,
   "id": "e0f8befd",
   "metadata": {},
   "outputs": [],
   "source": [
    "tracks"
   ]
  },
  {
   "cell_type": "markdown",
   "id": "23091aa4",
   "metadata": {},
   "source": [
    "# Convert the data into a DataFrame"
   ]
  },
  {
   "cell_type": "code",
   "execution_count": null,
   "id": "84e188b9",
   "metadata": {
    "scrolled": true
   },
   "outputs": [],
   "source": [
    "df = pd.DataFrame(tracks, columns = ['name', 'artist', 'album', 'spotify_url', 'album_cover'])\n",
    "\n",
    "df"
   ]
  },
  {
   "cell_type": "markdown",
   "id": "cbabcae5",
   "metadata": {},
   "source": [
    "# Google Spreadsheet\n",
    "\n",
    "#### If you want to export your data to Google Spreadsheet, you can do so by running the following code.\n",
    "\n",
    "- But first you need to go to gspread doc and follow the instructions (https://docs.gspread.org/en/latest/oauth2.html#enable-api-access)"
   ]
  },
  {
   "cell_type": "code",
   "execution_count": null,
   "id": "f2ec20c4",
   "metadata": {},
   "outputs": [],
   "source": [
    "import gspread"
   ]
  },
  {
   "cell_type": "code",
   "execution_count": null,
   "id": "622f585e",
   "metadata": {},
   "outputs": [],
   "source": [
    "gc = gspread.service_account(filename=\"spotify_wrapped_gspread.json\")"
   ]
  },
  {
   "cell_type": "code",
   "execution_count": null,
   "id": "33bc5522",
   "metadata": {},
   "outputs": [],
   "source": [
    "sh = gc.open(\"My Spotify Wrapped Data\")"
   ]
  },
  {
   "cell_type": "code",
   "execution_count": null,
   "id": "72b4af64",
   "metadata": {},
   "outputs": [],
   "source": [
    "def df_to_gspread(track_ids):\n",
    "    tracks = []\n",
    "\n",
    "    for i in range(len(track_ids)):\n",
    "        time.sleep(0.5)\n",
    "        track = track_features(track_ids[i])\n",
    "        tracks.append(track)\n",
    "\n",
    "    # Create DataFrame\n",
    "    df = pd.DataFrame(tracks, columns=['name', 'artist', 'album', 'spotify_url', 'album_cover'])\n",
    "\n",
    "    # Authenticate with Google Sheets\n",
    "    gc = gspread.service_account(filename=\"spotify_wrapped_gspread.json\")\n",
    "    sh = gc.open(\"My Spotify Wrapped Data\")\n",
    "\n",
    "    # Access worksheet\n",
    "    worksheet = sh.worksheet(f\"{time_period}\")\n",
    "\n",
    "    # Update worksheet with headers and data\n",
    "    worksheet.update([df.columns.values.tolist()] + df.values.tolist())\n",
    "\n",
    "    print(\"Done!\")"
   ]
  },
  {
   "cell_type": "code",
   "execution_count": null,
   "id": "21bdefb6",
   "metadata": {},
   "outputs": [],
   "source": [
    "time_ranges = [\"short_term\", \"medium_term\", \"long_term\"]\n",
    "\n",
    "for time_period in time_ranges:\n",
    "    top_tracks = sp.current_user_top_tracks(limit=10, offset=0, time_range=time_period)\n",
    "    track_ids = track_song_id(top_tracks)\n",
    "    df_to_gspread(track_ids)"
   ]
  }
 ],
 "metadata": {
  "kernelspec": {
   "display_name": "Python 3 (ipykernel)",
   "language": "python",
   "name": "python3"
  },
  "language_info": {
   "codemirror_mode": {
    "name": "ipython",
    "version": 3
   },
   "file_extension": ".py",
   "mimetype": "text/x-python",
   "name": "python",
   "nbconvert_exporter": "python",
   "pygments_lexer": "ipython3",
   "version": "3.11.5"
  }
 },
 "nbformat": 4,
 "nbformat_minor": 5
}
